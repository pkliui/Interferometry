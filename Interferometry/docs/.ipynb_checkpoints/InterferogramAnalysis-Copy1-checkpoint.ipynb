{
 "cells": [
  {
   "cell_type": "markdown",
   "metadata": {},
   "source": [
    "\n",
    "\n",
    "# A short user guide to python tools for visualization and analysis of interferometric data\n",
    "\n",
    "* ```Interferogram``` class deals with 1D interferograms (time-series data).\n",
    "* It provides functionality for reading and analysis of such datasets as well for simualtion\n",
    "* Current analysis tools:\n",
    "    - Fourier transform\n",
    "    - Wigner-Ville transform\n",
    "* Simulations:\n",
    "    - Pulse profile\n",
    "    - Interferogram\n",
    "    "
   ]
  },
  {
   "cell_type": "code",
   "execution_count": 1,
   "metadata": {
    "scrolled": false
   },
   "outputs": [],
   "source": [
    "#import packages\n",
    "import sys\n",
    "import glob, os\n",
    "from parse import parse\n",
    "\n",
    "# set source path\n",
    "codepath = os.path.abspath(\"/Users/Pavel/Documents/repos/signal-processing\")\n",
    "if codepath not in sys.path:\n",
    "    sys.path.append(codepath)\n",
    "\n",
    "#automatically track changes in the source code\n",
    "%load_ext autoreload\n",
    "%autoreload 2"
   ]
  },
  {
   "cell_type": "markdown",
   "metadata": {},
   "source": [
    "# Experimenal inerferograms"
   ]
  },
  {
   "cell_type": "code",
   "execution_count": 2,
   "metadata": {},
   "outputs": [],
   "source": [
    "from Interferogram.classes.interferogram import Interferogram"
   ]
  },
  {
   "cell_type": "markdown",
   "metadata": {},
   "source": [
    "## Display a specific dataset in the current directory"
   ]
  },
  {
   "cell_type": "markdown",
   "metadata": {},
   "source": [
    "* Initialize an instance of the class by providing all relevant arguments to ```ifgm = Interferogram()```\n",
    "\n",
    "    * Provide the datapath to a directory of interest\n",
    "    * Provide the filename to read\n",
    "    * Set the units of time  and the time step used whilst recording the data\n",
    "\n",
    "\n",
    "* Read 1D interferometric data by calling the ```read_data()``` method with empty arguments on the instance of the initialized class.              \n",
    "        \n",
    "        \n",
    "* Display the dataset by calling the ```display()```module on the instance of the class. This will automatically compute the 1D Fourier transform of the dataset and display it.\n",
    "\n",
    "    * Specify the relevant arguments such as the wavelength range to display and the units. \n",
    "    * By setting ```vs_wavelength = True ```  one sets the Fourier data to be displayed as a function of wavelength instead of frequency\n",
    "    * To turn off the display of the temporal data, set ```temporal_data=False```\n",
    "    * For details see ```help(ifgm.display)```"
   ]
  },
  {
   "cell_type": "code",
   "execution_count": 3,
   "metadata": {
    "scrolled": false
   },
   "outputs": [
    {
     "ename": "ValueError",
     "evalue": "File path does not exist! Please enter a valid path",
     "output_type": "error",
     "traceback": [
      "\u001b[0;31m---------------------------------------------------------------------------\u001b[0m",
      "\u001b[0;31mValueError\u001b[0m                                Traceback (most recent call last)",
      "\u001b[0;32m/var/folders/rk/9lnzmxvn7z76mmct4fp9_bsc0000gn/T/ipykernel_27355/37678267.py\u001b[0m in \u001b[0;36m<module>\u001b[0;34m\u001b[0m\n\u001b[1;32m      6\u001b[0m                      \u001b[0mtime_units\u001b[0m \u001b[0;34m=\u001b[0m \u001b[0;34m\"fs\"\u001b[0m\u001b[0;34m,\u001b[0m\u001b[0;34m\u001b[0m\u001b[0;34m\u001b[0m\u001b[0m\n\u001b[1;32m      7\u001b[0m                      time_step = 0.15)\n\u001b[0;32m----> 8\u001b[0;31m \u001b[0mifgm\u001b[0m\u001b[0;34m.\u001b[0m\u001b[0mread_data\u001b[0m\u001b[0;34m(\u001b[0m\u001b[0;34m)\u001b[0m\u001b[0;34m\u001b[0m\u001b[0;34m\u001b[0m\u001b[0m\n\u001b[0m\u001b[1;32m      9\u001b[0m ifgm.display(vs_wavelength=True, \n\u001b[1;32m     10\u001b[0m              \u001b[0mwav_min\u001b[0m \u001b[0;34m=\u001b[0m \u001b[0;36m350\u001b[0m\u001b[0;34m,\u001b[0m\u001b[0;34m\u001b[0m\u001b[0;34m\u001b[0m\u001b[0m\n",
      "\u001b[0;32m~/Documents/repos/signal-processing/Interferogram/classes/interferogram.py\u001b[0m in \u001b[0;36mread_data\u001b[0;34m(self)\u001b[0m\n\u001b[1;32m     86\u001b[0m             \u001b[0mself\u001b[0m\u001b[0;34m.\u001b[0m\u001b[0mintensity\u001b[0m \u001b[0;34m=\u001b[0m \u001b[0mdata\u001b[0m\u001b[0;34m[\u001b[0m\u001b[0;34m:\u001b[0m\u001b[0;34m,\u001b[0m \u001b[0;36m1\u001b[0m\u001b[0;34m]\u001b[0m\u001b[0;34m\u001b[0m\u001b[0;34m\u001b[0m\u001b[0m\n\u001b[1;32m     87\u001b[0m         \u001b[0;32melse\u001b[0m\u001b[0;34m:\u001b[0m\u001b[0;34m\u001b[0m\u001b[0;34m\u001b[0m\u001b[0m\n\u001b[0;32m---> 88\u001b[0;31m             \u001b[0;32mraise\u001b[0m \u001b[0mValueError\u001b[0m\u001b[0;34m(\u001b[0m\u001b[0;34m\"File path does not exist! Please enter a valid path\"\u001b[0m\u001b[0;34m)\u001b[0m\u001b[0;34m\u001b[0m\u001b[0;34m\u001b[0m\u001b[0m\n\u001b[0m\u001b[1;32m     89\u001b[0m \u001b[0;34m\u001b[0m\u001b[0m\n\u001b[1;32m     90\u001b[0m     \u001b[0;32mdef\u001b[0m \u001b[0mdisplay\u001b[0m\u001b[0;34m(\u001b[0m\u001b[0mself\u001b[0m\u001b[0;34m,\u001b[0m \u001b[0mvs_wavelength\u001b[0m\u001b[0;34m=\u001b[0m\u001b[0;32mFalse\u001b[0m\u001b[0;34m,\u001b[0m \u001b[0mtemporal_data\u001b[0m \u001b[0;34m=\u001b[0m \u001b[0;32mTrue\u001b[0m\u001b[0;34m,\u001b[0m \u001b[0mwav_min\u001b[0m\u001b[0;34m=\u001b[0m\u001b[0;36m400\u001b[0m\u001b[0;34m,\u001b[0m \u001b[0mwav_max\u001b[0m\u001b[0;34m=\u001b[0m\u001b[0;36m800\u001b[0m\u001b[0;34m,\u001b[0m \u001b[0mwav_units\u001b[0m\u001b[0;34m=\u001b[0m\u001b[0;34m\"nm\"\u001b[0m\u001b[0;34m)\u001b[0m\u001b[0;34m:\u001b[0m\u001b[0;34m\u001b[0m\u001b[0;34m\u001b[0m\u001b[0m\n",
      "\u001b[0;31mValueError\u001b[0m: File path does not exist! Please enter a valid path"
     ]
    }
   ],
   "source": [
    "datapath = os.path.abspath(\"/Users/Pavel/Documents/project_folder/g2_experiment/data/20210910-delay-tpa/\")\n",
    "filename = \"20210910-scan003-10525fs-to-10325fs-step-0.15fs-1exp.txt\"\n",
    "\n",
    "ifgm = Interferogram(pathtodata = datapath, \n",
    "                     filetoread = filename, \n",
    "                     time_units = \"fs\", \n",
    "                     time_step = 0.15)\n",
    "ifgm.read_data()\n",
    "ifgm.display(vs_wavelength=True, \n",
    "             wav_min = 350, \n",
    "             wav_max = 1000, \n",
    "             wav_units = \"nm\")"
   ]
  },
  {
   "cell_type": "markdown",
   "metadata": {},
   "source": [
    "## Display all data in any directory"
   ]
  },
  {
   "cell_type": "markdown",
   "metadata": {},
   "source": [
    "You can also read, analyse and display all data in any directory of interest. It is assumed though that **all data were recorded using the same units of time** (e.g. all datasets have units of e.g. fs)\n",
    "\n",
    "* Initialize an instance of the class by providing the relevant arguments to ```ifgm = Interferogram()```\n",
    "\n",
    "    * Provide the datapath to a directory of interest\n",
    "    * Set the unit of time used whilst recording the data\n",
    "    * DO NOT set the ```filetoread``` and the ```time_step``` arguments - the code will find them out automatically whilst reading out the data sets.\n",
    "\n",
    "* Read, analyse and display the dataset by calling the ```display_all()``` module on the instance of the initialized class using the same arguments as with the ```display()``` module.\n"
   ]
  },
  {
   "cell_type": "code",
   "execution_count": null,
   "metadata": {
    "scrolled": true
   },
   "outputs": [],
   "source": [
    "datapath = os.path.abspath(\"/Users/Pavel/Documents/project_folder/g2_experiment/data/20210910-delay-tpa/\")\n",
    "\n",
    "ifgm = Interferogram(pathtodata = datapath, time_units = \"fs\")\n",
    "\n",
    "ifgm.display_all(vs_wavelength=True, wav_min=300, wav_max=900, wav_units=\"nm\")"
   ]
  },
  {
   "cell_type": "markdown",
   "metadata": {},
   "source": [
    "# Simulated interferograms "
   ]
  },
  {
   "cell_type": "code",
   "execution_count": null,
   "metadata": {
    "scrolled": true
   },
   "outputs": [],
   "source": [
    "from Interferogram.classes.simulation import Simulation"
   ]
  },
  {
   "cell_type": "markdown",
   "metadata": {},
   "source": [
    "* Set arguments upon the initialization of the Simulation class. See more info in the docstring."
   ]
  },
  {
   "cell_type": "code",
   "execution_count": null,
   "metadata": {},
   "outputs": [],
   "source": [
    "sim = Simulation(lambd=800e-9, t_fwhm=100e-15, t_phase=0, \n",
    "                 t_start=-350e-15, t_end=350e-15, delta_t=0.1e-15,\n",
    "                 tau_start=-350e-15, tau_end=350e-15, delta_tau=0.1e-15)"
   ]
  },
  {
   "cell_type": "markdown",
   "metadata": {},
   "source": [
    "* Generate an electric field pulse by calling ```gen_e_field```method on he initialised class instance.\n",
    "* There is an option of displaying the pulse by setting ```plotting=True```\n"
   ]
  },
  {
   "cell_type": "code",
   "execution_count": null,
   "metadata": {},
   "outputs": [],
   "source": [
    "sim.gen_e_field(plotting=True);"
   ]
  },
  {
   "cell_type": "markdown",
   "metadata": {},
   "source": [
    "* Generate an interferogram by calling ```gen_interferogram``` method on the initialised class instance.\n",
    "* There is an option of displaying the pulse by setting ```plotting=True```\n"
   ]
  },
  {
   "cell_type": "code",
   "execution_count": 4,
   "metadata": {
    "scrolled": true
   },
   "outputs": [
    {
     "ename": "NameError",
     "evalue": "name 'sim' is not defined",
     "output_type": "error",
     "traceback": [
      "\u001b[0;31m---------------------------------------------------------------------------\u001b[0m",
      "\u001b[0;31mNameError\u001b[0m                                 Traceback (most recent call last)",
      "\u001b[0;32m/var/folders/rk/9lnzmxvn7z76mmct4fp9_bsc0000gn/T/ipykernel_27355/3419846821.py\u001b[0m in \u001b[0;36m<module>\u001b[0;34m\u001b[0m\n\u001b[0;32m----> 1\u001b[0;31m \u001b[0msim\u001b[0m\u001b[0;34m.\u001b[0m\u001b[0mgen_interferogram\u001b[0m\u001b[0;34m(\u001b[0m\u001b[0mplotting\u001b[0m\u001b[0;34m=\u001b[0m\u001b[0;32mTrue\u001b[0m\u001b[0;34m)\u001b[0m\u001b[0;34m\u001b[0m\u001b[0;34m\u001b[0m\u001b[0m\n\u001b[0m",
      "\u001b[0;31mNameError\u001b[0m: name 'sim' is not defined"
     ]
    }
   ],
   "source": [
    "sim.gen_interferogram(plotting=True)"
   ]
  },
  {
   "cell_type": "code",
   "execution_count": 55,
   "metadata": {
    "scrolled": false
   },
   "outputs": [
    {
     "data": {
      "text/plain": [
       "[<matplotlib.lines.Line2D at 0x7f923d725fa0>]"
      ]
     },
     "execution_count": 55,
     "metadata": {},
     "output_type": "execute_result"
    },
    {
     "data": {
      "image/png": "[encoded data removed]",
      "text/plain": [
       "<Figure size 432x288 with 1 Axes>"
      ]
     },
     "metadata": {
      "needs_background": "light"
     },
     "output_type": "display_data"
    }
   ],
   "source": [
    "from matplotlib import pyplot as plt\n",
    "plt.plot(sim.interferogram) "
   ]
  },
  {
   "cell_type": "code",
   "execution_count": null,
   "metadata": {},
   "outputs": [],
   "source": []
  },
  {
   "cell_type": "code",
   "execution_count": 101,
   "metadata": {},
   "outputs": [],
   "source": [
    "import tftb\n",
    "import numpy as np\n",
    "import matplotlib.pyplot as plt\n",
    "import scipy.signal as sig\n",
    "\n",
    "\n",
    "#T = 2  # signal duration\n",
    "dt =  sim.delta_t # sample interval/spacing 1/500\n",
    "freq_s = 1 / sim.delta_t  # sampling frequency   1/dt\n",
    "#N = T / dt  # number of samples\n",
    "ts = sim.time_samples\n",
    "# np.arange(N) * dt  # times\n",
    "\n",
    "#  constructing a chirp multiplied by a Gaussian\n",
    "#t0 = T/2\n",
    "#freq = np.linspace(10, 30, int(N))\n",
    "#sigma = 0.1\n",
    "\n",
    "\n",
    "\n",
    "#signal = sim.interferogram\n",
    "\n",
    "\n",
    "signal = np.exp(1j * ts * 2 * np.pi * 2e15)\n",
    "\n",
    "#signal = np.cos((ts-t0) * 2 * np.pi * freq) * np.exp(-(ts-t0)**2/(2*sigma**2))/np.sqrt(sigma)\n",
    "\n",
    "\n",
    "# adding some noise\n",
    "#signal += np.random.randn(len(signal))*0.5\n",
    "\n",
    "\n",
    "#  plotting the signal\n",
    "#plt.figure()\n",
    "#plt.plot(ts, signal)\n",
    "#plt.show()"
   ]
  },
  {
   "cell_type": "code",
   "execution_count": 102,
   "metadata": {},
   "outputs": [],
   "source": [
    "def get_spectrogram(signal,freq_s,  **kwargs):\n",
    "\n",
    "    #  compute the spectorgram and the Wigner transform \n",
    "    #\n",
    "    # first looking at the power of the short time fourier transform (SFTF):\n",
    "    # nperseg = 2**6  # window size of the STFT\n",
    "    f_stft, t_stft, Zxx = sig.stft(signal, freq_s, **kwargs)\n",
    "    # shifting the frequency axis for better representation\n",
    "    Zxx = np.fft.fftshift(Zxx, axes=0)\n",
    "    f_stft = np.fft.fftshift(f_stft)\n",
    "  \n",
    "    return Zxx, f_stft\n",
    "\n",
    "\n",
    "\n",
    "def get_wigner_ville(ts, signal):\n",
    "\n",
    "    # Doing the WVT\n",
    "    wvd = tftb.processing.WignerVilleDistribution(signal, timestamps=ts)\n",
    "    tfr_wvd, t_wvd, f_wvd = wvd.run()\n",
    "    # here t_wvd is the same as our ts, and f_wvd are the \"normalized frequencies\"\n",
    "    # so we will not use them and construct our own.\n",
    "    \n",
    "    return tfr_wvd, t_wvd, f_wvd"
   ]
  },
  {
   "cell_type": "code",
   "execution_count": 103,
   "metadata": {},
   "outputs": [
    {
     "name": "stdout",
     "output_type": "stream",
     "text": [
      "name:  Petrr\n",
      "age:  30\n",
      "school:  1\n",
      "teacher:  2\n"
     ]
    }
   ],
   "source": [
    "def myprint(name, age=\"30\", school=None, teacher=None):\n",
    "    print(\"name: \", name)\n",
    "    print(\"age: \", age)\n",
    "    print(\"school: \", school)\n",
    "    print(\"teacher: \", teacher)\n",
    "    \n",
    "\n",
    "def userInfo(name, age, **kwargs):\n",
    "    #\n",
    "    myprint(name, age, **kwargs)\n",
    "    \n",
    "userInfo(name=\"Petrr\", age=\"30\", school=\"1\", teacher=\"2\")\n",
    "\n"
   ]
  },
  {
   "cell_type": "code",
   "execution_count": 104,
   "metadata": {},
   "outputs": [],
   "source": [
    "# compute spectrogram\n",
    "Zxx, f_stft = get_spectrogram(signal, freq_s, \n",
    "                              nperseg = 2**6,\n",
    "                              noverlap=2**6 - 1, \n",
    "                              return_onesided=False)"
   ]
  },
  {
   "cell_type": "code",
   "execution_count": 105,
   "metadata": {},
   "outputs": [],
   "source": [
    "# compute Wigner-Ville transform\n",
    "tfr_wvd, t_wvd, f_wvd = get_wigner_ville(ts, signal)"
   ]
  },
  {
   "cell_type": "code",
   "execution_count": 106,
   "metadata": {},
   "outputs": [],
   "source": [
    "def plot_spectrogram_and_wigner(Zxx, f_stft, tfr_wvd, t_wvd, f_wvd):\n",
    "\n",
    "    f, axx = plt.subplots(1, 2, figsize=(15,5),  constrained_layout=True)\n",
    "\n",
    "    df1 = f_stft[1] - f_stft[0]  # the frequency step\n",
    "    im = axx[0].imshow(np.real(Zxx * np.conj(Zxx)), aspect='auto',\n",
    "              interpolation=None, origin='lower',\n",
    "              extent=(ts[0] - dt/2, ts[-1] + dt/2,\n",
    "                      f_stft[0] - df1/2, f_stft[-1] + df1/2))\n",
    "    axx[0].set_ylabel('frequency [Hz]')\n",
    "    plt.colorbar(im, ax=axx[0])\n",
    "    axx[0].set_title('spectrogram')\n",
    "\n",
    "    print(\"Spectrogram shape \", Zxx.shape)\n",
    "    print(\"WT shape \", Zxx.shape)\n",
    "\n",
    "\n",
    "    # because of how they implemented WVT, the maximum frequency is half of\n",
    "    # the sampling Nyquist frequency, so 125 Hz instead of 250 Hz, and the sampling\n",
    "    # is 2 * dt instead of dt\n",
    "    f_wvd = np.fft.fftshift(np.fft.fftfreq(tfr_wvd.shape[0], d=2 * dt))\n",
    "    df_wvd = f_wvd[1]-f_wvd[0]  # the frequency step in the WVT\n",
    "    im = axx[1].imshow(np.fft.fftshift(tfr_wvd, axes=0), aspect='auto', origin='lower',\n",
    "           extent=(ts[0] - dt/2, ts[-1] + dt/2,\n",
    "                   f_wvd[0]-df_wvd/2, f_wvd[-1]+df_wvd/2))\n",
    "    axx[1].set_xlabel('time [s]')\n",
    "    axx[1].set_ylabel('frequency [Hz]')\n",
    "    plt.colorbar(im, ax=axx[1])\n",
    "    axx[1].set_title('Wigner-Ville Transform')\n",
    "    plt.show()"
   ]
  },
  {
   "cell_type": "code",
   "execution_count": 107,
   "metadata": {},
   "outputs": [
    {
     "name": "stdout",
     "output_type": "stream",
     "text": [
      "Spectrogram shape  (64, 7001)\n",
      "WT shape  (64, 7001)\n"
     ]
    },
    {
     "data": {
      "image/png": "[encoded data removed]",
      "text/plain": [
       "<Figure size 1080x360 with 4 Axes>"
      ]
     },
     "metadata": {
      "needs_background": "light"
     },
     "output_type": "display_data"
    }
   ],
   "source": [
    "plot_spectrogram_and_wigner(Zxx, f_stft, tfr_wvd, t_wvd, f_wvd)"
   ]
  },
  {
   "cell_type": "code",
   "execution_count": 113,
   "metadata": {},
   "outputs": [
    {
     "name": "stderr",
     "output_type": "stream",
     "text": [
      "/Users/Pavel/anaconda3/envs/signal-processing/lib/python3.9/site-packages/scipy/signal/spectral.py:1816: UserWarning: Input data is complex, switching to return_onesided=False\n",
      "  warnings.warn('Input data is complex, switching to '\n"
     ]
    }
   ],
   "source": [
    "f_stft, t_stft, signal_stft = sim.compute_spectrogram(signal, freq_s, nperseg=2**6)"
   ]
  },
  {
   "cell_type": "code",
   "execution_count": 111,
   "metadata": {},
   "outputs": [],
   "source": [
    "def plot_spectrogram(signal_stft, f_stft):\n",
    "\n",
    "    f, axx = plt.subplots(1, 2, figsize=(15,5),  constrained_layout=True)\n",
    "\n",
    "    df1 = f_stft[1] - f_stft[0]  # the frequency step\n",
    "    \n",
    "    im = axx[0].imshow(np.real(signal_stft * np.conj(signal_stft)), aspect='auto',\n",
    "              interpolation=None, origin='lower',\n",
    "              extent=(sim.time_samples[0] - sim.delta_t/2, sim.time_samples[-1] + sim.delta_t/2,\n",
    "                      f_stft[0] - df1/2, f_stft[-1] + df1/2))\n",
    "    axx[0].set_ylabel('frequency [Hz]')\n",
    "    plt.colorbar(im, ax=axx[0])\n",
    "    axx[0].set_title('spectrogram')\n",
    "\n",
    "    print(\"Spectrogram shape \", Zxx.shape)\n",
    "    print(\"WT shape \", Zxx.shape)\n",
    "\n",
    "\n",
    "    plt.show()"
   ]
  },
  {
   "cell_type": "code",
   "execution_count": 114,
   "metadata": {
    "scrolled": true
   },
   "outputs": [
    {
     "name": "stdout",
     "output_type": "stream",
     "text": [
      "Spectrogram shape  (64, 7001)\n",
      "WT shape  (64, 7001)\n"
     ]
    },
    {
     "data": {
      "image/png": "[encoded data removed]",
      "text/plain": [
       "<Figure size 1080x360 with 3 Axes>"
      ]
     },
     "metadata": {
      "needs_background": "light"
     },
     "output_type": "display_data"
    }
   ],
   "source": [
    "plot_spectrogram(signal_stft, f_stft)"
   ]
  },
  {
   "cell_type": "code",
   "execution_count": 125,
   "metadata": {},
   "outputs": [
    {
     "data": {
      "text/plain": [
       "'2.985075e+15'"
      ]
     },
     "execution_count": 125,
     "metadata": {},
     "output_type": "execute_result"
    }
   ],
   "source": [
    "from decimal import Decimal\n",
    "freq = 3e8 / 100.5e-9\n",
    "'{:.6e}'.format(freq)"
   ]
  },
  {
   "cell_type": "code",
   "execution_count": null,
   "metadata": {},
   "outputs": [],
   "source": []
  }
 ],
 "metadata": {
  "hide_input": false,
  "kernelspec": {
   "display_name": "Python 3 (ipykernel)",
   "language": "python",
   "name": "python3"
  },
  "language_info": {
   "codemirror_mode": {
    "name": "ipython",
    "version": 3
   },
   "file_extension": ".py",
   "mimetype": "text/x-python",
   "name": "python",
   "nbconvert_exporter": "python",
   "pygments_lexer": "ipython3",
   "version": "3.9.6"
  }
 },
 "nbformat": 4,
 "nbformat_minor": 4
}
